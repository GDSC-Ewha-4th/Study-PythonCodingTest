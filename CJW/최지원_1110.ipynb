{
  "nbformat": 4,
  "nbformat_minor": 0,
  "metadata": {
    "colab": {
      "provenance": []
    },
    "kernelspec": {
      "name": "python3",
      "display_name": "Python 3"
    },
    "language_info": {
      "name": "python"
    }
  },
  "cells": [
    {
      "cell_type": "markdown",
      "source": [
        "# 2468\n",
        "- 문제 접근 방식\n",
        "  - list\n",
        "  - x축, y축 이용해서 영역 찾기\n",
        "- 해법을 찾는데 결정적이었던 깨달음\n",
        "  - sys.setrecurionlimit()  \n",
        "  : stack에 최대 깊이 지정해서 무한대의 recursion으로 인해 발생하는 overflow 방지\n",
        "- 문제 풀이 로직\n",
        "  - 가장 높은 지역의 높이\n",
        "  - 비의 양에 따라 낮은 영역 물에 잠기게 만들기\n",
        "  - 물에 잠기지 않은 영역 개수 계산\n",
        "  - 비의 양 늘려 반복 후, 최대 영역 수 출력\n"
      ],
      "metadata": {
        "id": "9MpSVwVDCw5Z"
      }
    },
    {
      "cell_type": "code",
      "source": [
        "import sys\n",
        "sys.setrecursionlimit(100000)\n",
        "r = sys.stdin.readline # input\n",
        "\n",
        "# 상 우 하 좌\n",
        "dx = [-1, 0, 1, 0]\n",
        "dy = [0, 1, 0, -1]\n",
        "\n",
        "\n",
        "def dfs(x, y, h):  # 영역 개수 찾기\n",
        "\n",
        "    for m in range(4):\n",
        "        nx = x + dx[m]\n",
        "        ny = y + dy[m]\n",
        "\n",
        "        if (0 <= nx < N) and (0 <= ny < N) and not visit[nx][ny] and zone[nx][ny] > h:\n",
        "            visit[nx][ny] = True\n",
        "            dfs(nx, ny, h)\n",
        "\n",
        "\n",
        "N = int(r())\n",
        "zone = [list(map(int, r().split())) for _ in range(N)]\n",
        "\n",
        "ans = 1\n",
        "\n",
        "for k in range(max(map(max, zone))): # 가장 높은 지역 높이까지\n",
        "    visit = [[False]*N for _ in range(N)] # 우선 False 설정\n",
        "    safe = 0\n",
        "    for i in range(N):\n",
        "        for j in range(N):\n",
        "            if zone[i][j] > k and not visit[i][j]:\n",
        "                safe += 1\n",
        "                visit[i][j] = True\n",
        "                dfs(i, j, k)\n",
        "    ans = max(ans, safe) # 물에 잠기지 않는 안전한 영역의 최대 개수\n",
        "\n",
        "print(ans)"
      ],
      "metadata": {
        "id": "4QvtSQ1rPXc5"
      },
      "execution_count": null,
      "outputs": []
    },
    {
      "cell_type": "markdown",
      "source": [
        "# 20438\n",
        "- 문제 접근 방식\n",
        "  - 입장 번호 = index\n",
        "  - list로 출석체크\n",
        "\n",
        "- 해법을 찾는데 결정적이었던 깨달음\n",
        "  - 시간 복잡도 낮은 누적합 이용\n",
        "\n",
        "- 문제 풀이 로직\n",
        "  - 조는 학생 & 출석체크 용 list 생성\n",
        "  - input에 따라 조는 학생 & 출석 번호 체크\n",
        "\n",
        "  - 0번째부터 n+3까지 출석한 학생들의 누적합 구하기  \n",
        "  - 구간 학생 수 - (누적합[구간 마지막값] - 누적합[구간 시작값])"
      ],
      "metadata": {
        "id": "RBP8nz_JCz2n"
      }
    },
    {
      "cell_type": "code",
      "source": [
        "import sys\n",
        "input = sys.stdin.readline\n",
        "\n",
        "n,k,q,m = map(int, input().split())\n",
        "\n",
        "sleep = [0]*(n+3) \n",
        "check = [0]*(n+3)\n",
        "\n",
        "for i in map(int, input().split()): # 졸고 있는 학생 체크\n",
        "    sleep[i] = 1\n",
        "\n",
        "for i in map(int, input().split()): # 출석체크\n",
        "    if sleep[i]: \n",
        "        continue\n",
        "    for j in range(i, n+3, i): # +입장번호 배수인 학생들 출석\n",
        "        if not sleep[j]:\n",
        "            check[j] = 1\n",
        "\n",
        "prefix = [check[0]]\n",
        "\n",
        "for i in range(1, n+3):\n",
        "    prefix.append(prefix[-1]+check[i]) ## 각 번호 i까지 출석한 애들 수\n",
        "\n",
        "for _ in range(m):\n",
        "    s, e = map(int, input().split())\n",
        "    print(e-s+1 - (prefix[e]-prefix[s-1])) # 원하는 구간의 애들 수 - (원하는 구간 출석한 애들 수)"
      ],
      "metadata": {
        "id": "9lPVOyl7C1Qr"
      },
      "execution_count": null,
      "outputs": []
    },
    {
      "cell_type": "markdown",
      "source": [
        "# 2527\n",
        "- 문제 접근 방식\n",
        "  - 좌표\n",
        "  - 조건에 맞는 if문 이용\n",
        "- 해법을 찾는데 결정적이었던 깨달음\n",
        "  - 조건 잘 파악해서 조건문 작성하기\n",
        "  - 가장 경우의 수가 많은 'a' 남겨두기\n",
        "- 문제 풀이 로직\n",
        "  - 각 사각형의 x,y 좌표 저장\n",
        "  - a, b, c, d에 해당하는 경우에 따라 if문 이용"
      ],
      "metadata": {
        "id": "aIg2yYhgC1jH"
      }
    },
    {
      "cell_type": "code",
      "source": [
        "import sys\n",
        "\n",
        "input = sys.stdin.readline\n",
        "\n",
        "for i in range(4):\n",
        "  x1, y1, x2, y2, x3, y3, x4. y4 = map(int, input().split())\n",
        "\n",
        "  if x3 > x2 or x4 < x1 or y3 > y2 or y4 < y1:\n",
        "    print('d')\n",
        "    continue\n",
        "\n",
        "  if [x1,y1]==[x4,y4] or [x2,y1]==[x3,y4] or [x1,y2]==[x4,y3] or [x2,y2]==[x3,y3]\n",
        "    print('c')\n",
        "    continue\n",
        "\n",
        "  if x4 == x1 and y4 > y1 and y2 > y3:\n",
        "    print('b')\n",
        "    continue\n",
        "  if y4 == y1 and x2 > x3 and x4 > x1:\n",
        "    print( 'b')\n",
        "    continue\n",
        "  if x3 == x2 and y4 > y1 and y2 > y3:\n",
        "    print('b')\n",
        "    continue\n",
        "  if y3 == y2 and x2 > x3 and x4 > x1:\n",
        "    print('b')\n",
        "    continue\n",
        "  \n",
        "  print('a')"
      ],
      "metadata": {
        "id": "IAxKsHkbeRtZ"
      },
      "execution_count": null,
      "outputs": []
    }
  ]
}