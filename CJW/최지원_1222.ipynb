{
  "nbformat": 4,
  "nbformat_minor": 0,
  "metadata": {
    "colab": {
      "provenance": []
    },
    "kernelspec": {
      "name": "python3",
      "display_name": "Python 3"
    },
    "language_info": {
      "name": "python"
    }
  },
  "cells": [
    {
      "cell_type": "markdown",
      "source": [
        "# 문자열 압축\n",
        "- 문제 접근 방식\n",
        "  - for문 이용\n",
        "  - 순서가 있는 압축 방식\n",
        "- 해법을 찾는데 결정적이었던 깨달음\n",
        "  - cnt의 초기 값 = 1\n",
        "- 문제 풀이 로직\n",
        "  - for문(i): 문자열 길이에 따라 압축\n",
        "   (문자열 길이의 절반까지)\n",
        "  - for문(j): 실제 문자열 압축 결과 찾기\n",
        "  - cur의 길이 최소 값 비교하며 answer 찾기\n"
      ],
      "metadata": {
        "id": "9MpSVwVDCw5Z"
      }
    },
    {
      "cell_type": "code",
      "source": [
        "def solution(s):\n",
        "    answer = len(s)\n",
        "\n",
        "    if len(s) == 1:\n",
        "        return 1\n",
        "        \n",
        "    for i in range(1, len(s) // 2 + 1):\n",
        "        cnt = 1\n",
        "        cur = ''\n",
        "        temp = s[:i]\n",
        "\n",
        "        for j in range(i, len(s), i):\n",
        "            if temp == s[j:j+i]:\n",
        "                cnt += 1\n",
        "\n",
        "            else: # 압축 결과 완성하기\n",
        "                if cnt == 1:\n",
        "                    cur += temp\n",
        "                else: \n",
        "                    cur += str(cnt) + temp\n",
        "\n",
        "                cnt = 1 # 값 초기화\n",
        "                temp = s[j:j+i] \n",
        "\n",
        "        \n",
        "        if cnt == 1: # 마무리\n",
        "            cur += temp\n",
        "        else:\n",
        "            cur += str(cnt) + temp\n",
        "        answer = min(answer, len(cur)) # answer\n",
        "                    \n",
        "    return answer"
      ],
      "metadata": {
        "id": "6obobGWo8CDt"
      },
      "execution_count": 45,
      "outputs": []
    },
    {
      "cell_type": "code",
      "source": [
        "solution(\"abcabcdede\")"
      ],
      "metadata": {
        "colab": {
          "base_uri": "https://localhost:8080/"
        },
        "id": "2zNx3rBn8Dpl",
        "outputId": "525b98a8-4f4f-4440-9245-07170fc0df66"
      },
      "execution_count": 46,
      "outputs": [
        {
          "output_type": "execute_result",
          "data": {
            "text/plain": [
              "8"
            ]
          },
          "metadata": {},
          "execution_count": 46
        }
      ]
    },
    {
      "cell_type": "markdown",
      "source": [
        "# 괄호 변환\n",
        "- 문제 접근 방식\n",
        "  - 모든 괄호를 뽑아서 올바른 순서대로 배치된 괄호 문자열을 알려주는 프로그램\n",
        "  - 균형 잡힌 괄호 문자열/올바른 괄호 분자열\n",
        "  - u,v 분리 > v 괄호 뒤집기, 재귀적 수행\n",
        "- 해법을 찾는데 결정적이었던 깨달음\n",
        "  - 문제에서 요구하는 바를 잘 구현하기,,\n",
        "- 문제 풀이 로직\n",
        "  - u, v 분리: ( ) 개수 세기\n",
        "  - 올바른 문자열인지 : 스택 이용\n",
        "  - 정의한 함수 합쳐서 최종 완성"
      ],
      "metadata": {
        "id": "RBP8nz_JCz2n"
      }
    },
    {
      "cell_type": "code",
      "source": [
        "def solution(p):\n",
        "    answer = ''\n",
        "    if isCorrect(p): return p\n",
        "    \n",
        "    answer = rec(p)\n",
        "    \n",
        "    return answer\n",
        "\n",
        "def UV(p): # U, V 분리\n",
        "    left, right = 0, 0\n",
        "    for i in range(len(p)):\n",
        "        if p[i] == '(':\n",
        "            left += 1\n",
        "        else:\n",
        "            right += 1\n",
        "        if left == right:\n",
        "            u = p[:i+1]\n",
        "            v = p[i+1:] if i+1 < len(p) else \"\"\n",
        "            break\n",
        "    return u, v\n",
        "    \n",
        "def isCorrect(p): # 올바른 문자열 판별\n",
        "    stack = []\n",
        "    for c in p:\n",
        "        if c == '(':\n",
        "            stack.append(c)\n",
        "        else:\n",
        "            if not len(stack):\n",
        "                return False\n",
        "            elif stack[-1] == '(':\n",
        "                stack.pop()\n",
        "    return False if len(stack) else True\n",
        "\n",
        "def rec(p): # 재귀\n",
        "    result = \"\"\n",
        "    if not len(p): return \"\"\n",
        "    u,v = UV(p)\n",
        "    if isCorrect(u):\n",
        "        result = u + rec(v)\n",
        "    else:\n",
        "        tmp = \"(\"\n",
        "        tmp += rec(v)\n",
        "        tmp += \")\"\n",
        "        u = u[1:-1]\n",
        "        for c in u:\n",
        "            if c == '(':\n",
        "                tmp+=')'\n",
        "            else:\n",
        "                tmp+='('\n",
        "        result += tmp\n",
        "    return result"
      ],
      "metadata": {
        "id": "VPrdAag_7MgE"
      },
      "execution_count": 47,
      "outputs": []
    }
  ]
}