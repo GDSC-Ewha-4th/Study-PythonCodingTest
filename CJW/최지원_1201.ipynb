{
  "nbformat": 4,
  "nbformat_minor": 0,
  "metadata": {
    "colab": {
      "provenance": []
    },
    "kernelspec": {
      "name": "python3",
      "display_name": "Python 3"
    },
    "language_info": {
      "name": "python"
    }
  },
  "cells": [
    {
      "cell_type": "markdown",
      "source": [
        "# 광고 삽입\n",
        "- 문제 접근 방식\n",
        "  - 시청자들이 가장 많이 보는 구간, 누적 재생 시간\n",
        "  - play_time, adv_time, logs > 가장 빠른 시작 시간\n",
        "- 해법을 찾는데 결정적이었던 깨달음\n",
        "  - 등장하는 모든 시각 초로 환산\n",
        "- 문제 풀이 로직\n",
        "  - 모든 입력값 초로 환산\n",
        "  - total_time[x] = x 시각에 시작된 재생 구간 개수 - x 시각에 종료된 재생 구간 개수\n",
        "  - total_time[x] = 시각 x부터 x+1까지 1초 간의 구간을 포함하는 재생 구간의 개수\n",
        "  - total_time[x] = 시각 0부터 x+1까지 x+1초 간의 구간을 포함하는 누적 재생시간\n",
        "  - max_time 구하기\n"
      ],
      "metadata": {
        "id": "9MpSVwVDCw5Z"
      }
    },
    {
      "cell_type": "code",
      "source": [
        "def solution(play_time, adv_time, logs):\n",
        "    play_time = str_to_int(play_time)       \n",
        "    adv_time = str_to_int(adv_time)               \n",
        "    all_time = [0 for i in range(play_time + 1)]\n",
        "\n",
        "    for l in logs:                           \n",
        "        start, end = l.split('-')\n",
        "        start = str_to_int(start)\n",
        "        end = str_to_int(end)\n",
        "        all_time[start] += 1\n",
        "        all_time[end] -= 1\n",
        "\n",
        "    for i in range(1, len(all_time)):      \n",
        "        all_time[i] = all_time[i] + all_time[i - 1]\n",
        "\n",
        "    for i in range(1, len(all_time)):       \n",
        "        all_time[i] = all_time[i] + all_time[i - 1]\n",
        "\n",
        "    most_view = 0                          \n",
        "    max_time = 0                          \n",
        "    for i in range(adv_time - 1, play_time):\n",
        "        if i >= adv_time:\n",
        "            if most_view < all_time[i] - all_time[i - adv_time]:\n",
        "                most_view = all_time[i] - all_time[i - adv_time]\n",
        "                max_time = i - adv_time + 1\n",
        "        else:\n",
        "            if most_view < all_time[i]:\n",
        "                most_view = all_time[i]\n",
        "                max_time = i - adv_time + 1\n",
        "\n",
        "    return int_to_str(max_time)\n",
        "\n",
        "\n",
        "def str_to_int(time):\n",
        "    h, m, s = time.split(':')\n",
        "    return int(h) * 3600 + int(m) * 60 + int(s)\n",
        "\n",
        "\n",
        "def int_to_str(time):\n",
        "    h = time // 3600\n",
        "    h = '0' + str(h) if h < 10 else str(h)\n",
        "    time = time % 3600\n",
        "    m = time // 60\n",
        "    m = '0' + str(m) if m < 10 else str(m)\n",
        "    time = time % 60\n",
        "    s = '0' + str(time) if time < 10 else str(time)\n",
        "    return h + ':' + m + ':' + s\n"
      ],
      "metadata": {
        "id": "j8w96-9VplSv"
      },
      "execution_count": null,
      "outputs": []
    },
    {
      "cell_type": "markdown",
      "source": [
        "# 순위 검색\n",
        "- 문제 접근 방식\n",
        "  - 사용언어/직군/경력/소울푸드/점수\n",
        "  - [조건]을 만족하는 사람 중 코딩테스트 점수를 X점 이상 받은 사람 수\n",
        "  - if/elif 사용\n",
        "- 해법을 찾는데 결정적이었던 깨달음\n",
        "  - 정확성&효율성,, 효율성,,,\n",
        "- 문제 풀이 로직\n",
        "  - 조건에 맞게 잘 비교"
      ],
      "metadata": {
        "id": "RBP8nz_JCz2n"
      }
    },
    {
      "cell_type": "code",
      "source": [
        "def solution(info, query):\n",
        "    answer = []\n",
        "    queries=[]\n",
        "\n",
        "    infos=[i.split()  for i in info]\n",
        "    for q in query:\n",
        "      q=q.split()\n",
        "      for i in range(3):\n",
        "        q.remove('and')\n",
        "      queries.append(q)\n",
        "    \n",
        "    answer=[0]*len(query)\n",
        "    for i in range(len(queries)): # i : i번째 조건에 맞는 사람 수 탐색\n",
        "      for info in infos: \n",
        "        for k in range(5): # 조건 하나씩\n",
        "          if queries[i][k]=='-':\n",
        "            continue\n",
        "          elif k == 4:\n",
        "            if int(info[k])>=int(queries[i][k]):\n",
        "              answer[i]+=1\n",
        "          elif info[k] != queries[i][k]:\n",
        "            break\n",
        "\n",
        "    return answer"
      ],
      "metadata": {
        "id": "QBLYTVakLmvy"
      },
      "execution_count": 32,
      "outputs": []
    },
    {
      "cell_type": "markdown",
      "source": [
        "# 메뉴 리뉴얼\n",
        "- 문제 접근 방식\n",
        "  - 코스 요리 = 2가지 이상 단품 메뉴 + 최소 2명 이상 손님으로부터 주문된 단품메뉴 조합\n",
        "  - 단품 메뉴 A~Z\n",
        "  - course 값 따라서 for문 이용\n",
        "- 해법을 찾는데 결정적이었던 깨달음\n",
        "  - 효율적으로 코드 짜기,, 함수 이용\n",
        "  - 최소 2명 이상 손님으로부터 주문: collections.Counter\n",
        "- 문제 풀이 로직\n",
        "  - course 따라 조합 찾기\n",
        "  - course 개로 구성된 조합 찾기: itertools.combinations\n",
        "  - 주문 횟수 계산 + 내림차순 정렬\n",
        "  - result = 2명 이상 손님 주문 & 가장 많이 주문된 조합 \n",
        "  - 원하는 output 형태로 출력"
      ],
      "metadata": {
        "id": "PcTYOvwUKd3X"
      }
    },
    {
      "cell_type": "code",
      "source": [
        "import collections\n",
        "import itertools\n",
        "\n",
        "def solution(orders, course):\n",
        "    result = []\n",
        "\n",
        "    for i in course: # course 값 따라서 for 문 이용\n",
        "        order_combinations = []\n",
        "        for order in orders: # 주문한 요리 조합\n",
        "            order_combinations += itertools.combinations(sorted(order), i)\n",
        "\n",
        "        most_ordered = collections.Counter(order_combinations).most_common() # 주문 횟수 & 정렬\n",
        "        result += [ k for k, v in most_ordered if v > 1 and v == most_ordered[0][1] ] # 2명 이상 손님 주문 메뉴 & 가장 많이 주문된 조합\n",
        "        print(most_ordered)\n",
        "\n",
        "    return [ ''.join(v) for v in sorted(result) ]"
      ],
      "metadata": {
        "id": "KaH7aiTJXlQF"
      },
      "execution_count": 47,
      "outputs": []
    },
    {
      "cell_type": "markdown",
      "source": [
        "# 카드 짝 맞추기\n",
        "- 문제 접근 방식\n",
        "  - 카드 짝 맞추기, 4X4\n",
        "  - 2장 선택해서 앞면으로 뒤집었을 때 같은 그림이 그려진 카드 > 사라짐\n",
        "  - 커서 이용해서 선택 & ctrl+방향키 & Enter 뒤집기//남은 카드를 모두 제거하는데 필요한 키 조작 횟수의 최솟값\n",
        "  - 남은 카드 쌍에 따라 경우 구분\n",
        "  - 최단경로,,?\n",
        "- 해법을 찾는데 결정적이었던 깨달음\n",
        "  - 순열 이용; ex.카드 종류가 최대 6개이므로 어떤 카드부터 제거해나갈지 정하는 방법 6!\n",
        "  - 같은 카드 쌍이어도, 어떤 카드를 먼저 제거하는지에 따라 횟수가 달라질 수 있음\n",
        "- 문제 풀이 로직\n",
        "  - 카드를 제거하는 모든 순서에 대해 탐색\n",
        "  - BFS : 그 중 키 조작 횟수가 가장 적은 방법 찾기"
      ],
      "metadata": {
        "id": "aIg2yYhgC1jH"
      }
    },
    {
      "cell_type": "code",
      "source": [
        "from collections import deque\n",
        "from itertools import permutations\n",
        "from copy import deepcopy\n",
        "\n",
        "board = []\n",
        "def ctrl_move(r, c, k, t):\n",
        "    global board\n",
        "    cr, cc = r, c\n",
        "    while True:\n",
        "        nr = cr + k\n",
        "        nc = cc + t\n",
        "        if not (0<=nr<4 and 0<=nc<4):\n",
        "            return cr, cc\n",
        "        if board[nr][nc] != 0:\n",
        "            return nr, nc\n",
        "        cr = nr\n",
        "        cc = nc\n",
        "\n",
        "def bfs(start, end): # 최단 거리 찾기\n",
        "    r, c = start\n",
        "    find_r, find_c = end\n",
        "    queue = deque()\n",
        "    queue.append((r, c, 0))\n",
        "    visited = [[0]*4 for _ in range(4)]\n",
        "    move = [(0,-1),(0,1),(-1,0),(1,0)]\n",
        "    while queue:\n",
        "        r, c, temp = queue.popleft()\n",
        "        if visited[r][c]: continue\n",
        "        visited[r][c] = 1\n",
        "        if r == find_r and c == find_c:\n",
        "            return temp\n",
        "        for k, t in move:\n",
        "            cr = k+r\n",
        "            cc = c+t\n",
        "            if 0<=cr<4 and 0<=cc<4:\n",
        "                queue.append((cr,cc, temp+1))\n",
        "            cr, cc = ctrl_move(r, c, k, t)\n",
        "            queue.append((cr, cc, temp+1))\n",
        "    return -1\n",
        "\n",
        "def solution(input_board, sr, sc):\n",
        "    global board\n",
        "    board = input_board\n",
        "    location = [[] for _ in range(7)]\n",
        "    nums = []\n",
        "    for i in range(4):\n",
        "        for j in range(4):\n",
        "            if board[i][j]:\n",
        "                if board[i][j] not in nums: nums.append(board[i][j])\n",
        "                location[board[i][j]].append((i, j))\n",
        "    per = list(permutations(nums, len(nums))) # 순열; 모든 조합 고려\n",
        "    answer = float('inf')\n",
        "    for i in range(len(per)):\n",
        "        board = deepcopy(input_board)\n",
        "        cnt = 0\n",
        "        r, c = sr, sc\n",
        "        for j in per[i]:\n",
        "            left = bfs((r, c), location[j][0])\n",
        "            right = bfs((r, c), location[j][1])\n",
        "            if left < right:\n",
        "                cnt += left\n",
        "                cnt += bfs(location[j][0], location[j][1])\n",
        "                r, c = location[j][1]\n",
        "            else:\n",
        "                cnt += right\n",
        "                cnt += bfs(location[j][1], location[j][0])\n",
        "                r, c = location[j][0]\n",
        "            board[location[j][0][0]][location[j][0][1]] = 0 \n",
        "            board[location[j][1][0]][location[j][1][1]] = 0 \n",
        "            cnt += 2 # enter\n",
        "        answer = min(answer, cnt)\n",
        "    return answer"
      ],
      "metadata": {
        "id": "IAxKsHkbeRtZ"
      },
      "execution_count": null,
      "outputs": []
    }
  ]
}