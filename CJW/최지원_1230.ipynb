{
  "nbformat": 4,
  "nbformat_minor": 0,
  "metadata": {
    "colab": {
      "provenance": []
    },
    "kernelspec": {
      "name": "python3",
      "display_name": "Python 3"
    },
    "language_info": {
      "name": "python"
    }
  },
  "cells": [
    {
      "cell_type": "markdown",
      "source": [
        "# 양궁 대회\n",
        "- 문제 접근 방식\n",
        "  - 할 수 있는 모든 조합 탐색? 일부만?\n",
        "  - 어피치보다 1개만 더 맞추면 점수 획득\n",
        "- 해법을 찾는데 결정적이었던 깨달음\n",
        "  - 조건을 코드로 구현하는 방식으로 풀이\n",
        "  - dfs 이용해서도 풀 수 있다\n",
        "  - (그냥 주의) Counter 이용할 때 순서 반대\n",
        "- 문제 풀이 로직\n",
        "  - for문: 모든 조합 시도\n",
        "  - info랑 비교하면서 점수 계산\n",
        "  - 점수 차 계산 > max_diff 저장\n",
        "  - 라이언이 이길 수 있는 경우(max_diff>0) 배열 출력, 없으면 -1\n"
      ],
      "metadata": {
        "id": "9MpSVwVDCw5Z"
      }
    },
    {
      "cell_type": "code",
      "source": [
        "from itertools import combinations_with_replacement\n",
        "from collections import Counter\n",
        "\n",
        "def solution(n, info):\n",
        "    max_diff, max_comb_cnt = 0, {}\n",
        "\n",
        "    for comb in combinations_with_replacement(range(11), n):\n",
        "        cnt = Counter(comb)\n",
        "        score1, score2 = 0, 0\n",
        "        for i in range(1, 11):\n",
        "            if info[10-i] < cnt[i]:\n",
        "                score1 += i\n",
        "            elif info[10-i] > 0:\n",
        "                score2 += i\n",
        "                \n",
        "        diff = score1 - score2\n",
        "        if diff > max_diff:\n",
        "            max_comb_cnt = cnt\n",
        "            max_diff = diff\n",
        "            \n",
        "    if max_diff > 0:\n",
        "        answer = [0]*11\n",
        "        for n in max_comb_cnt:\n",
        "            answer[10-n] = max_comb_cnt[n] \n",
        "        return answer \n",
        "    else:\n",
        "        return [-1]"
      ],
      "metadata": {
        "id": "6obobGWo8CDt"
      },
      "execution_count": null,
      "outputs": []
    },
    {
      "cell_type": "markdown",
      "source": [
        "# 행렬 테두리 회전\n",
        "- 문제 접근 방식\n",
        "  - 한 칸씩 시계방향으로 회전\n",
        "  - 제일 작은 값 찾기\n",
        "- 해법을 찾는데 결정적이었던 깨달음\n",
        "  - deque 이용\n",
        "- 문제 풀이 로직\n",
        "  - query 해당 부분만 뽑아서 회전-deque rotate\n",
        "  - 최솟값 찾은 후 다시 넣기"
      ],
      "metadata": {
        "id": "RBP8nz_JCz2n"
      }
    },
    {
      "cell_type": "code",
      "source": [
        "from collections import deque\n",
        "def solution(rows, columns, queries):\n",
        "    answer=[]\n",
        "    rot = [[i*columns+j+1 for j in range(columns)] for i in range(rows)]\n",
        "    \n",
        "    for query in queries:\n",
        "        tmp=deque([])\n",
        "        \n",
        "        for i in range(query[1]-1,query[3]-1):\n",
        "            tmp.append(rot[query[0]-1][i])\n",
        "        for i in range(query[0]-1,query[2]-1):\n",
        "            tmp.append(rot[i][query[3]-1])\n",
        "        for i in reversed(range(query[1],query[3])):\n",
        "            tmp.append(rot[query[2]-1][i])\n",
        "        for i in reversed(range(query[0],query[2])):\n",
        "            tmp.append(rot[i][query[1]-1])\n",
        "        answer.append(min(tmp))\n",
        "        tmp.rotate(1)\n",
        "        \n",
        "        pointer=0\n",
        "        for i in range(query[1]-1,query[3]-1):\n",
        "            rot[query[0]-1][i]=tmp[pointer]\n",
        "            pointer+=1\n",
        "        for i in range(query[0]-1,query[2]-1):\n",
        "            rot[i][query[3]-1]=tmp[pointer]\n",
        "            pointer+=1\n",
        "        for i in reversed(range(query[1],query[3])):\n",
        "            rot[query[2]-1][i]=tmp[pointer]\n",
        "            pointer+=1\n",
        "        for i in reversed(range(query[0],query[2])):\n",
        "            rot[i][query[1]-1]=tmp[pointer]\n",
        "            pointer+=1\n",
        "            \n",
        "    return answer"
      ],
      "metadata": {
        "id": "VPrdAag_7MgE"
      },
      "execution_count": null,
      "outputs": []
    }
  ]
}