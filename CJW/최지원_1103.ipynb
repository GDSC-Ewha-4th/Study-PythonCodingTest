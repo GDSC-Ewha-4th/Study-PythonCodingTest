{
  "nbformat": 4,
  "nbformat_minor": 0,
  "metadata": {
    "colab": {
      "provenance": []
    },
    "kernelspec": {
      "name": "python3",
      "display_name": "Python 3"
    },
    "language_info": {
      "name": "python"
    }
  },
  "cells": [
    {
      "cell_type": "markdown",
      "source": [
        "# 11501\n",
        "- 문제 접근 방식\n",
        "  - 테스트 케이스별 리스트 생성\n",
        "  - 순방향 문제\n",
        "  - 주가 비교\n",
        "- 해법을 찾는데 결정적이었던 깨달음\n",
        "  - 시간 초과 오류 해결  \n",
        "  : 마지막 날부터 거꾸로 확인하면서 해당 날의 주가와 최대 주가 비교\n",
        "- 문제 풀이 로직\n",
        "  - 날짜 시간 순 고려\n",
        "  - 최대 이익 얻기:  \n",
        "    이후 주가 상승 > 이익 가능\n",
        "    이후 주가 하락 > 0이 최대 이익\n",
        "  - 주가 비교 > 얻을 수 있는 이익 저장"
      ],
      "metadata": {
        "id": "9MpSVwVDCw5Z"
      }
    },
    {
      "cell_type": "code",
      "source": [
        "n = int(input()) # input-TEST CASE\n",
        "\n",
        "result = []\n",
        "\n",
        "for _ in range(n):\n",
        "  # input-DAY & PRICE\n",
        "  day = int(input())\n",
        "  price = list(map(int, input().split()))\n",
        "\n",
        "  # 초기 값 설정\n",
        "  profit=0\n",
        "  max_price=price[day-1]\n",
        "\n",
        "  for i in range(day-1,-1,-1): # 마지막 날부터 확인\n",
        "    if price[i] < max_price:\n",
        "      profit+=max_price-price[i]\n",
        "    else:\n",
        "      max_price=price[i] \n",
        "  result.append(profit) # 최종 수익 result 저장\n",
        "\n",
        "for i in result:\n",
        "  print(i)"
      ],
      "metadata": {
        "colab": {
          "base_uri": "https://localhost:8080/"
        },
        "id": "4QvtSQ1rPXc5",
        "outputId": "f5dfcf91-db5f-442e-f939-9420030f7bc8"
      },
      "execution_count": 31,
      "outputs": [
        {
          "output_type": "stream",
          "name": "stdout",
          "text": [
            "3\n",
            "3\n",
            "10 7 6\n",
            "3\n",
            "3 5 9\n",
            "5\n",
            "1 1 3 1 2\n",
            "0\n",
            "10\n",
            "5\n"
          ]
        }
      ]
    },
    {
      "cell_type": "code",
      "execution_count": 32,
      "metadata": {
        "colab": {
          "base_uri": "https://localhost:8080/"
        },
        "id": "u7IZU8jkCu5t",
        "outputId": "5c0daf5e-f2f7-444e-bb56-9b705bdf9456"
      },
      "outputs": [
        {
          "output_type": "stream",
          "name": "stdout",
          "text": [
            "3\n",
            "3\n",
            "10 7 6\n",
            "3\n",
            "3 5 9\n",
            "5\n",
            "1 1 3 1 2\n",
            "0\n",
            "10\n",
            "5\n"
          ]
        }
      ],
      "source": [
        " n = int(input()) # input-TEST CASE\n",
        "\n",
        "result = []\n",
        "\n",
        "for _ in range(n):\n",
        "  # input-DAY & PRICE\n",
        "  day = int(input())\n",
        "  price = list(map(int, input().split()))\n",
        "  # profit 초기 값 설정\n",
        "  profit=0\n",
        "\n",
        "  for i in range(day): \n",
        "    if i<(day-1): # empty list 오류 방지\n",
        "      if price[i]<max(price[i+1:]): \n",
        "        profit+=max(price[i+1:])-price[i]\n",
        "      else: \n",
        "        profit+=0\n",
        "  result.append(profit) # 최종 수익 result 저장\n",
        "\n",
        "for i in result:\n",
        "  print(i)"
      ]
    },
    {
      "cell_type": "markdown",
      "source": [
        "# 1406\n",
        "- 문제 접근 방식\n",
        "  - stack 왼,오 생성\n",
        "  - list pop, append 이용\n",
        "\n",
        "- 해법을 찾는데 결정적이었던 깨달음\n",
        "  - stack 아이디어 이용해서 커서 이동\n",
        "\n",
        "- 문제 풀이 로직\n",
        "  - 명령어 L/D/B/P에 따라 조건문 실행\n",
        "  - 마지막 결과 reverse해서 출력"
      ],
      "metadata": {
        "id": "RBP8nz_JCz2n"
      }
    },
    {
      "cell_type": "code",
      "source": [
        "import sys\n",
        "\n",
        "stack_l = list(input()) # input-초기 문자열\n",
        "stack_r = []\n",
        "n = int(input()) # input-명령어 개수\n",
        "\n",
        "for i in range(n):\n",
        "    command = sys.stdin.readline().split() # input-명령어\n",
        "\n",
        "    if command[0] == \"L\" and stack_l:\n",
        "        stack_r.append(stack_l.pop())\n",
        "    elif command[0] == \"D\" and stack_r:\n",
        "        stack_l.append(stack_r.pop())\n",
        "    elif command[0] == \"B\" and stack_l:\n",
        "        stack_l.pop()\n",
        "    elif command[0] == \"P\":\n",
        "        stack_l.append(command[1])\n",
        "\n",
        "print(\"\".join(stack_l + list(reversed(stack_r))))"
      ],
      "metadata": {
        "id": "9lPVOyl7C1Qr"
      },
      "execution_count": null,
      "outputs": []
    },
    {
      "cell_type": "markdown",
      "source": [
        "![image.png](data:image/png;base64,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)"
      ],
      "metadata": {
        "id": "LlpXpeB-cNVl"
      }
    },
    {
      "cell_type": "markdown",
      "source": [
        "# 1541\n",
        "- 문제 접근 방식\n",
        "  - 식의 값 최소 만들기 = 빼는 값 가장 크게\n",
        "- 해법을 찾는데 결정적이었던 깨달음\n",
        "  - int 형변환에서 00009 -> 9 로 변환\n",
        "- 문제 풀이 로직\n",
        "  - '-' 기준으로 '+'가 있는 모든 값 더해주기(괄호 역할)"
      ],
      "metadata": {
        "id": "aIg2yYhgC1jH"
      }
    },
    {
      "cell_type": "code",
      "source": [
        "exp = input().split(\"-\") # input 식 '-' 기준으로 분리\n",
        "\n",
        "result = 0\n",
        "\n",
        "print(exp[0])\n",
        "print(exp[1:])\n",
        "\n",
        "for i in exp[0].split(\"+\"): # 처음 값 계산\n",
        "    result += int(i)\n",
        "\n",
        "for i in exp[1:]: \n",
        "    for j in i.split(\"+\"): # 빼는 값이 가장 크게 될 수 있도록 더해주기\n",
        "        result -= int(j)\n",
        "\n",
        "print(result)"
      ],
      "metadata": {
        "colab": {
          "base_uri": "https://localhost:8080/"
        },
        "id": "IAxKsHkbeRtZ",
        "outputId": "6eb5baef-f997-490a-cb09-c2b17ed695f6"
      },
      "execution_count": 40,
      "outputs": [
        {
          "output_type": "stream",
          "name": "stdout",
          "text": [
            "55-50+50-3\n",
            "55\n",
            "['50+50', '3']\n",
            "-48\n"
          ]
        }
      ]
    }
  ]
}