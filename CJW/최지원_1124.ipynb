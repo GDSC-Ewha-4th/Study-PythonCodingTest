{
  "nbformat": 4,
  "nbformat_minor": 0,
  "metadata": {
    "colab": {
      "provenance": []
    },
    "kernelspec": {
      "name": "python3",
      "display_name": "Python 3"
    },
    "language_info": {
      "name": "python"
    }
  },
  "cells": [
    {
      "cell_type": "markdown",
      "source": [
        "# BOJ 2210 숫자판 점프\n",
        "- 문제 접근 방식\n",
        "  - 좌표 문제\n",
        "- 해법을 찾는데 결정적이었던 깨달음\n",
        "  - 같은 값이 있는지 확인\n",
        "  - 재귀 허용 깊이 늘려주기; sys.setrecursionlimit(10 ** 6) \n",
        "- 문제 풀이 로직\n",
        "  - dfs 이용\n",
        "  - 4 방향으로 좌표 탐색하고, 탐색마다 숫자 더해주기\n"
      ],
      "metadata": {
        "id": "9MpSVwVDCw5Z"
      }
    },
    {
      "cell_type": "code",
      "source": [
        "import sys\n",
        "sys.setrecursionlimit(10 ** 6)  # 재귀 허용 깊이 수동으로 늘려줌\n",
        "\n",
        "def dfs(x, y, number):\n",
        "    number += graph[x][y]\n",
        "\n",
        "    # 숫자 길이가 6일 경우, 같은 값이 있는지 확인\n",
        "    if len(number) == 6:\n",
        "        if number not in result:\n",
        "            result.append(number)\n",
        "        return\n",
        "\n",
        "    # 4 방향의 좌표 탐색\n",
        "    for i in range(4):\n",
        "        a = x + dx[i]\n",
        "        b = y + dy[i]\n",
        "\n",
        "        if 0 <= a < 5 and 0 <= b < 5:\n",
        "            dfs(a, b, number)\n",
        "\n",
        "graph = [list(map(str, sys.stdin.readline().split())) for i in range(5)]\n",
        "dy = [0, 0, 1, -1]\n",
        "dx = [1, -1, 0, 0]\n",
        "result = []\n",
        "\n",
        "for i in range(5):\n",
        "    for j in range(5):\n",
        "        dfs(i, j, \"\")\n"
      ],
      "metadata": {
        "id": "j8w96-9VplSv"
      },
      "execution_count": null,
      "outputs": []
    },
    {
      "cell_type": "markdown",
      "source": [
        "# BOJ 2638 치즈\n",
        "- 문제 접근 방식\n",
        "  - 치즈가 모두 녹아 없어지는데 걸리는 시간 출력\n",
        "  - 녹는 치즈와 안 녹는 치즈 구분\n",
        "- 해법을 찾는데 결정적이었던 깨달음\n",
        "  - 치즈인 칸 안쪽으로는 bfs 진행 X\n",
        "- 문제 풀이 로직\n",
        "  - bfs 이용\n",
        "  - 외부 공기 & 녹는 치즈 표시 > 반복"
      ],
      "metadata": {
        "id": "RBP8nz_JCz2n"
      }
    },
    {
      "cell_type": "code",
      "source": [
        "import sys\n",
        "from collections import deque\n",
        "input = sys.stdin.readline\n",
        "\n",
        "n,m = map(int,input().split())\n",
        "graph = [list(map(int,input().split())) for _ in range(n)]\n",
        "\n",
        "dx = [0,0,1,-1]\n",
        "dy = [1,-1,0,0]\n",
        "\n",
        "\n",
        "def bfs():\n",
        "    q = deque()\n",
        "    q.append([0,0])\n",
        "    visited[0][0] = 1\n",
        "    while q:\n",
        "        x,y = q.popleft()\n",
        "        for i in range(4):\n",
        "            nx = x + dx[i]\n",
        "            ny = y + dy[i]\n",
        "            if 0<=nx<n and 0<=ny<m and visited[nx][ny] == 0:\n",
        "                if graph[nx][ny] >= 1:\n",
        "                    graph[nx][ny] += 1\n",
        "                else:\n",
        "                    visited[nx][ny] = 1\n",
        "                    q.append([nx,ny])\n",
        "time = 0\n",
        "while 1:\n",
        "    visited = [[0]*m for _ in range(n)]\n",
        "    bfs()\n",
        "    flag = 0\n",
        "    for i in range(n):\n",
        "        for j in range(m):\n",
        "            if graph[i][j] >= 3:\n",
        "                graph[i][j] = 0\n",
        "                flag = 1\n",
        "            elif graph[i][j] == 2:\n",
        "                graph[i][j] = 1\n",
        "    if flag == 1:\n",
        "        time += 1\n",
        "    else:\n",
        "        break\n",
        "\n",
        "print(time)"
      ],
      "metadata": {
        "id": "xlXqahjE5mEv"
      },
      "execution_count": null,
      "outputs": []
    },
    {
      "cell_type": "markdown",
      "source": [
        "# 프로그래머스 72413\n",
        "- 문제 접근 방식\n",
        "  - 최저 택시 요금 계산\n",
        "  - 각자 이동했을 때 택시 요금이 더 낮다면, 합승 X\n",
        "- 해법을 찾는데 결정적이었던 깨달음\n",
        "  - 힙큐 사용; 최댓값과 최솟값을 찾는 연산을 빠르게 하기 위해 고안된 완전이진트리\n",
        "- 문제 풀이 로직\n",
        "  - s 지점에서 모든 번호에 대한 최단 경로 & A와 B 사이의 최단 거리\n",
        "  - S 지점 제외한 모든 지점에서 갈 수 있는 최단 거리 계산\n",
        "  - 최단 거리(최저 택시 요금) 출력\n"
      ],
      "metadata": {
        "id": "aIg2yYhgC1jH"
      }
    },
    {
      "cell_type": "code",
      "source": [
        "import heapq\n",
        "INF = int(1e9)\n",
        "\n",
        "def dijkstra(n, graph, s):\n",
        "    distance = [INF] * (n + 1)\n",
        "    distance[s] = 0\n",
        "    \n",
        "    q = []\n",
        "    heapq.heappush(q, (0, s))\n",
        "    while q:\n",
        "        dist, now = heapq.heappop(q)\n",
        "        \n",
        "        if distance[now] < dist:\n",
        "            continue\n",
        "        \n",
        "        for i in graph[now]:\n",
        "            cost = distance[now] + i[1]\n",
        "            if distance[i[0]] > cost:\n",
        "                distance[i[0]] = cost\n",
        "                heapq.heappush(q, (cost, i[0]))\n",
        "    \n",
        "    return distance\n",
        "\n",
        "\n",
        "def solution(n, s, a, b, fares):\n",
        "    graph = [[] for _ in range(n + 1)]\n",
        "    \n",
        "    for fare in fares:\n",
        "        c, d, cost = fare\n",
        "        graph[c].append((d, cost))\n",
        "        graph[d].append((c, cost))\n",
        "    \n",
        "    distance = dijkstra(n, graph, s)\n",
        "    result = distance[a] + distance[b]\n",
        "    \n",
        "    for i in range(1, n + 1):\n",
        "        if result <= distance[i] or i == s: \n",
        "            continue\n",
        "        else:\n",
        "            dist = dijkstra(n, graph, i)\n",
        "            result = min(result, distance[i] + (dist[a] + dist[b])) \n",
        "\n",
        "    return result"
      ],
      "metadata": {
        "id": "IAxKsHkbeRtZ"
      },
      "execution_count": null,
      "outputs": []
    },
    {
      "cell_type": "markdown",
      "source": [
        "# BOJ 2580 스도쿠\n",
        "- 문제 접근 방식\n",
        "  - if문으로 3개의 조건 모두 충족할 수 있는지 체크해서 빈칸 채우기\n",
        "- 해법을 찾는데 결정적이었던 깨달음\n",
        "  - 맞춰야 하는 빈칸 좌표 저장\n",
        "- 문제 풀이 로직\n",
        "  - 1~9 중 없는 숫자(빈칸에 들어갈 수 있는 숫자 후보) 찾는 함수 정의\n",
        "  - DFS & 재귀 이용"
      ],
      "metadata": {
        "id": "PcTYOvwUKd3X"
      }
    },
    {
      "cell_type": "code",
      "source": [
        "sudoku = [list(map(int, input().split())) for _ in range(9)]\n",
        "zeros = [(i, j) for i in range(9) for j in range(9) if sudoku[i][j] == 0]\n",
        "\n",
        "def check(i, j):\n",
        "    onetonine = [1,2,3,4,5,6,7,8,9]  \n",
        "    \n",
        "    # 가로줄, 세로줄\n",
        "    for k in range(9):\n",
        "        if sudoku[i][k] in onetonine:\n",
        "            onetonine.remove(sudoku[i][k])\n",
        "        if sudoku[k][j] in onetonine:\n",
        "            onetonine.remove(sudoku[k][j])\n",
        "            \n",
        "    # 3x3 박스\n",
        "    i //= 3\n",
        "    j //= 3\n",
        "    for p in range(i*3, (i+1)*3):\n",
        "        for q in range(j*3, (j+1)*3):\n",
        "            if sudoku[p][q] in onetonine:\n",
        "                onetonine.remove(sudoku[p][q])\n",
        "    \n",
        "    return onetonine\n",
        "\n",
        "flag = False\n",
        "def dfs(x):\n",
        "    global flag\n",
        "        \n",
        "    if x == len(zeros): # 정답 출력\n",
        "        for row in sudoku:\n",
        "            print(*row)\n",
        "        flag = True\n",
        "        \n",
        "    else:    \n",
        "        (i, j) = zeros[x]\n",
        "        promising = check(i, j) # 숫자 후보군\n",
        "        \n",
        "        for num in promising:\n",
        "            sudoku[i][j] = num \n",
        "            dfs(x + 1) # 재귀> 다음 빈칸\n",
        "            sudoku[i][j] = 0 # 정답이 없을 경우\n",
        "dfs(0)"
      ],
      "metadata": {
        "id": "cumTHVzeVq3k"
      },
      "execution_count": null,
      "outputs": []
    },
    {
      "cell_type": "markdown",
      "source": [
        "# BOJ 2011 암호코드\n",
        "- 문제 접근 방식\n",
        "  - 차례대로 경우의 수 계산\n",
        "- 해법을 찾는데 결정적이었던 깨달음\n",
        "  - 경우의 수 분리해서 계산  \n",
        "  ;(이전 경우의 수 + 해당 숫자) + ( [10,26]의 알파벳으로 대체될 수 있는 경우의 수)\n",
        "- 문제 풀이 로직\n",
        "  - 차례대로 연속된 숫자가 [10,26]의 다른 알파벳으로 대체될 수 있는지 체크\n",
        "  - 경우의 수 list 생성해서 최종 경우의 수 계산\n"
      ],
      "metadata": {
        "id": "0GEZB-fUKeGG"
      }
    },
    {
      "cell_type": "code",
      "source": [
        "input = list(map(int, input().split()))\n",
        "n=len(input)\n",
        "\n",
        "dp=[0 for _ in range(n+1)]\n",
        "\n",
        "dp[0],dp[1]=1,1\n",
        "if input[0]==0: # 암호 코드 0일 경우\n",
        "  print(0)\n",
        "else:\n",
        "  for i in range(2,n+1):\n",
        "    if input[i-1] != 0:\n",
        "      dp[i]+=dp[i-1] # 이전 경우의 수 + 해당 숫자\n",
        "\n",
        "    check=input[i-2]*10+input[i-1] # [10,26] 범위의 알파벳으로 대체될 수 있는지\n",
        "    if check>=10 and check <= 26:\n",
        "      dp[i]+=dp[i-2]\n",
        "   \n",
        "  print(dp[n]%1000000)"
      ],
      "metadata": {
        "id": "6YZJTCkSJ4N2"
      },
      "execution_count": null,
      "outputs": []
    },
    {
      "cell_type": "markdown",
      "source": [
        "# 프로그래머스 1829 카카오 프렌즈 컬러링북\n",
        "- 문제 접근 방식\n",
        "  - 4개 좌표\n",
        "- 해법을 찾는데 결정적이었던 깨달음\n",
        "  - deque 이용\n",
        "  - bfs 이용하는 함수 정의\n",
        "- 문제 풀이 로직\n",
        "  - Deque 이용해서 연결 구역 que 에 삽입 > 색 같은지 확인 > 최대 구역 찾기\n",
        "  - Que가 빌 때까지 while 문 이용해서 실행\n",
        "  - Visited = 방문 여부\n",
        "  - Color = 현재 탐색중인 영역의 색\n",
        "  - Count = 탐색하는 영역의 최대 크기\n"
      ],
      "metadata": {
        "id": "f7zNY6KwN_um"
      }
    },
    {
      "cell_type": "code",
      "source": [
        "from collections import deque\n",
        " \n",
        "dx = [1, -1, 0, 0]\n",
        "dy = [0, 0, 1, -1]\n",
        " \n",
        " \n",
        "def solution(m, n, picture):\n",
        "    answer = [0, 0]\n",
        "    visited = [[False] * n for _ in range(m)]\n",
        " \n",
        "    def bfs(x, y):\n",
        "        count = 1 # 탐색하는 영역의 최대 크기\n",
        "        queue = deque([(x, y)])\n",
        "   \n",
        "        visited[x][y] = True # 방문 처리\n",
        "        color = picture[x][y] # 현재 탐색중인 색 지정\n",
        "\n",
        "        while queue: # 큐가 빌 때까지\n",
        "            x, y = queue.popleft()\n",
        "            # 연결 구역 큐에 삽입\n",
        "\n",
        "            for i in range(4):\n",
        "                nx, ny = x + dx[i], y + dy[i]\n",
        "                if -1 < nx < m and -1 < ny < n:\n",
        "                    if not visited[nx][ny] and picture[nx][ny] == color:\n",
        "                        queue.append((nx, ny))\n",
        "                        visited[nx][ny] = True\n",
        "                        count += 1\n",
        "        answer[0] += 1\n",
        "        answer[1] = max(answer[1], count)\n",
        " \n",
        "    for i in range(m):\n",
        "        for j in range(n):\n",
        "            if not visited[i][j] and picture[i][j] != 0:\n",
        "                bfs(i, j)\n",
        "    return answer\n",
        " \n",
        " \n",
        "print(solution(6, 4, [[1, 1, 1, 0], [1, 2, 2, 0], [1, 0, 0, 1], [0, 0, 0, 1], [0, 0, 0, 3], [0, 0, 0, 3]]))\n",
        "print(solution(6, 4, [[1, 1, 1, 0], [1, 1, 1, 0], [0, 0, 0, 1], [0, 0, 0, 1], [0, 0, 0, 1], [0, 0, 0, 1]]))\n"
      ],
      "metadata": {
        "colab": {
          "base_uri": "https://localhost:8080/"
        },
        "id": "nosg_KuOXfGa",
        "outputId": "2cd7858b-3c71-4378-82ec-0e1ea6118bf9"
      },
      "execution_count": 25,
      "outputs": [
        {
          "output_type": "stream",
          "name": "stdout",
          "text": [
            "[4, 5]\n",
            "[2, 6]\n"
          ]
        }
      ]
    }
  ]
}