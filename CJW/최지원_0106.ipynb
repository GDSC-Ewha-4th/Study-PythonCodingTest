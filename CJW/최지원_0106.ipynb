{
  "nbformat": 4,
  "nbformat_minor": 0,
  "metadata": {
    "colab": {
      "provenance": []
    },
    "kernelspec": {
      "name": "python3",
      "display_name": "Python 3"
    },
    "language_info": {
      "name": "python"
    }
  },
  "cells": [
    {
      "cell_type": "markdown",
      "source": [
        "# 주차 요금 계산\n",
        "- 문제 접근 방식\n",
        "  - 주어진 조건 잘 구현\n",
        "- 해법을 찾는데 결정적이었던 깨달음\n",
        "  - 차량별 누적 시간이라는 조건 처음에 놓침\n",
        "  - dict 이용\n",
        "- 문제 풀이 로직\n",
        "  - 시간 변환\n",
        "  - 시간 계산 > del\n",
        "  - OUT 없는 차들 시간 계산\n",
        "  - 최종 요금 계산 > 정렬\n"
      ],
      "metadata": {
        "id": "9MpSVwVDCw5Z"
      }
    },
    {
      "cell_type": "code",
      "source": [
        "import math\n",
        "\n",
        "def get_fee(minutes, fees):\n",
        "    return fees[1] + math.ceil(max(0, (minutes - fees[0])) / fees[2]) * fees[3]\n",
        "\n",
        "limit = 60*23+59\n",
        "\n",
        "def solution(fees, records):\n",
        "    parking = dict()\n",
        "    stack = dict()\n",
        "    \n",
        "    for record in records:\n",
        "        time, car, cmd = record.split()\n",
        "        hour, minute = time.split(\":\")\n",
        "        minutes = int(hour) * 60 + int(minute)\n",
        "\n",
        "        if cmd == 'IN':\n",
        "            parking[car] = minutes\n",
        "        elif cmd == 'OUT':\n",
        "            try:\n",
        "                stack[car] += minutes - parking[car]\n",
        "            except:\n",
        "                stack[car] = minutes - parking[car]\n",
        "            del parking[car]\n",
        "\n",
        "    for car, minute in parking.items():\n",
        "        try:\n",
        "            stack[car] += limit - minute\n",
        "        except:\n",
        "            stack[car] = limit - minute\n",
        "        \n",
        "    return [get_fee(time, fees) for car, time in sorted(list(stack.items()), key=lambda x: x[0])]"
      ],
      "metadata": {
        "id": "hOz5CAvRtA3b"
      },
      "execution_count": null,
      "outputs": []
    },
    {
      "cell_type": "markdown",
      "source": [
        "# N으로 표현\n",
        "- 문제 접근 방식\n",
        "  - dynamic programming\n",
        "- 해법을 찾는데 결정적이었던 깨달음\n",
        "  - N을 n번 사용해서 만들 수 있는 수의 패턴 찾기\n",
        "- 문제 풀이 로직\n",
        "  - 주어진 숫자 n으로 각 횟수당 만들 수 있는 숫자 조합 만든다\n",
        "  - 만들어진 숫자 조합에 number가 있는지 확인\n",
        "  - 있다면 답으로 return, 없다면 횟수 1번 늘려서 다시 반복"
      ],
      "metadata": {
        "id": "RBP8nz_JCz2n"
      }
    },
    {
      "cell_type": "code",
      "source": [
        "def solution(N, number):\n",
        "    if number == 1:\n",
        "        return 1\n",
        "    set_list = []\n",
        "    \n",
        "    for cnt in range(1, 9): \n",
        "        partial_set = set()\n",
        "        partial_set.add(int(str(N) * cnt)) \n",
        "        for i in range(cnt - 1): # (1, n-1) ~ (n-1, 1)까지 사칙연산\n",
        "            for op1 in set_list[i]:\n",
        "                for op2 in set_list[-i - 1]:\n",
        "                    partial_set.add(op1 + op2)\n",
        "                    partial_set.add(op1 * op2)\n",
        "                    partial_set.add(op1 - op2)\n",
        "                    if op2 != 0:\n",
        "                        partial_set.add(op1 / op2)\n",
        "        \n",
        "        if number in partial_set:\n",
        "            return cnt\n",
        "        set_list.append(partial_set)\n",
        "    return -1"
      ],
      "metadata": {
        "id": "_iZsE-6CJdvl"
      },
      "execution_count": null,
      "outputs": []
    }
  ]
}