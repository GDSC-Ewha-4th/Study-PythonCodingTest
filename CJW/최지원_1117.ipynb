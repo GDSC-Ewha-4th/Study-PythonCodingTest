{
  "nbformat": 4,
  "nbformat_minor": 0,
  "metadata": {
    "colab": {
      "provenance": []
    },
    "kernelspec": {
      "name": "python3",
      "display_name": "Python 3"
    },
    "language_info": {
      "name": "python"
    }
  },
  "cells": [
    {
      "cell_type": "markdown",
      "source": [
        "## **2021 홍익대학교 프로그래밍 경진대회**"
      ],
      "metadata": {
        "id": "zes3qtPgKFXE"
      }
    },
    {
      "cell_type": "markdown",
      "source": [
        "# A. 홍익 절대평가\n",
        "- 문제 접근 방식\n",
        "  - 문제에 제시된 기준대로 접근\n",
        "- 해법을 찾는데 결정적이었던 깨달음\n",
        "  - 문제대로 잘 코드 작성하기!\n",
        "- 문제 풀이 로직\n",
        "  - 크게 절대평가와 상대평가로 나눠서 코드 작성\n"
      ],
      "metadata": {
        "id": "9MpSVwVDCw5Z"
      }
    },
    {
      "cell_type": "code",
      "source": [
        "n = int(input()) # input-TEST CASE\n",
        "grades = list(map(int, input().split()))\n",
        "cut = list(map(int, input().split()))\n",
        "\n",
        "cut1=n*cut[0]/100\n",
        "\n",
        "A2=[]\n",
        "for i in grades:\n",
        "  if i >= cut[1]:\n",
        "    A2.append(i)\n",
        "print(int(cut1),len(A2))"
      ],
      "metadata": {
        "colab": {
          "base_uri": "https://localhost:8080/"
        },
        "id": "j8w96-9VplSv",
        "outputId": "198a2b45-f605-4abd-e73e-4cad10788312"
      },
      "execution_count": null,
      "outputs": [
        {
          "output_type": "stream",
          "name": "stdout",
          "text": [
            "10\n",
            "1 2 3 4 5 6 7 8 9 10\n",
            "50 6\n",
            "5 5\n"
          ]
        }
      ]
    },
    {
      "cell_type": "markdown",
      "source": [
        "# B. 홍익 댄스파티\n",
        "- 문제 접근 방식\n",
        "  - 도약 준비/도약 중/착석을 각각 한 세트로 보기\n",
        "- 해법을 찾는데 결정적이었던 깨달음\n",
        "  - 문제 정확하게 이해하기..\n",
        "\n",
        "- 문제 풀이 로직\n",
        "  - 도약 준비/도약 중/착석 인지 확인 후, 그 다음 단계인 도약 중/도약 준비/착석으로 상태 변경"
      ],
      "metadata": {
        "id": "RBP8nz_JCz2n"
      }
    },
    {
      "cell_type": "code",
      "source": [
        "party_people = [input() for _ in range(5)]\n",
        "photo = [''] * 5\n",
        "\n",
        "for i in range(len(party_people[0])) :\n",
        "    people_mod = party_people[0][i] + party_people[1][i] + party_people[2][i] + party_people[3][i] + party_people[4][i]\n",
        "\n",
        "    if people_mod == '.omln' : # 도약 준비\n",
        "        photo[0] += 'o'\n",
        "        photo[1] += 'w'\n",
        "        photo[2] += 'l'\n",
        "        photo[3] += 'n'\n",
        "        photo[4] += '.'\n",
        "    elif people_mod == 'owln.' : # 도약 중\n",
        "        photo[0] += '.'\n",
        "        photo[1] += 'o'\n",
        "        photo[2] += 'm'\n",
        "        photo[3] += 'l'\n",
        "        photo[4] += 'n'\n",
        "    else :\t# 착석\n",
        "        photo[0] += '.'\n",
        "        photo[1] += '.'\n",
        "        photo[2] += 'o'\n",
        "        photo[3] += 'L'\n",
        "        photo[4] += 'n'\n",
        "\n",
        "for p in photo :\n",
        "    print(p)"
      ],
      "metadata": {
        "id": "xlXqahjE5mEv"
      },
      "execution_count": null,
      "outputs": []
    },
    {
      "cell_type": "markdown",
      "source": [
        "# C. 초콜릿 뺏어먹기\n",
        "- 문제 접근 방식\n",
        "  - INPUT: 통의 개수, 통에 들어있는 초콜릿 개수\n",
        "  - OUTPUT: 먹을 수 있는 초콜릿 최대 개수, 최소 날짜\n",
        "  - 반복문 이용\n",
        "- 해법을 찾는데 결정적이었던 깨달음\n",
        "  - 초콜릿 먹는 전략 조건문 코드 잘 작성하기\n",
        "- 문제 풀이 로직\n",
        "  - 초콜릿 개수 오름차순 정렬\n",
        "  - 효원 전략 충족될 때까지 반복\n"
      ],
      "metadata": {
        "id": "aIg2yYhgC1jH"
      }
    },
    {
      "cell_type": "code",
      "source": [
        "def take_away_chocolate(chocolate):\n",
        "    day = 0\n",
        "    cnt = 0\n",
        "    min_chocolate_cnt = min(chocolate)\n",
        "    for i in range(1, len(chocolate)):\n",
        "        # 현재 초콜릿 개수가 이전 초콜릿 개수와 같거나 크고, 가장 작은 초코릿 개수보다 크다면..\n",
        "        if chocolate[i - 1] <= chocolate[i] and min_chocolate_cnt < chocolate[i]:\n",
        "            # 현재 초콜릿 개수가 이전 초콜릿 개수와 같아질 때 까지 줄여주자.\n",
        "            while chocolate[i] > chocolate[i - 1]:\n",
        "                chocolate[i] -= 1\n",
        "                cnt += 1\n",
        "            day += 1\n",
        "\n",
        "    print(cnt, day)\n",
        "\n",
        "\n",
        "n, k = map(int, input().split())\n",
        "arr = list(map(int, input().rstrip().split()))\n",
        "take_away_chocolate(sorted(arr))"
      ],
      "metadata": {
        "id": "IAxKsHkbeRtZ"
      },
      "execution_count": null,
      "outputs": []
    },
    {
      "cell_type": "markdown",
      "source": [
        "# D. 황소 다마고치\n",
        "- 문제 접근 방식\n",
        "  - 생존일 계산: 2로 나누기, for문 이용\n",
        "- 해법을 찾는데 결정적이었던 깨달음\n",
        "  - 현재 갖고 있는 체력으로 남은 생존일과 먹이로 가능한 생존일 분리해서 계산\n",
        "- 문제 풀이 로직\n",
        "  - cnt = 현재 갖고 있는 체력으로 남은 생존일 = 2로 나눠서 가질 수 있는 몫의 최대 개수\n",
        "  - m = 먹이로 가능한 생존일 = m\n",
        "  - 생존일 = cnt + m"
      ],
      "metadata": {
        "id": "PcTYOvwUKd3X"
      }
    },
    {
      "cell_type": "code",
      "source": [
        "import sys\n",
        "\n",
        "N = int(sys.stdin.readline())\n",
        "\n",
        "for _ in range(N):\n",
        "    n, m = map(int, sys.stdin.readline().split())\n",
        "    cnt = 0\n",
        "    while True:\n",
        "        n //= 2\n",
        "        cnt += 1\n",
        "        if n == 0:\n",
        "            break\n",
        "    print(cnt+m)"
      ],
      "metadata": {
        "id": "35G8hh_J-y7e"
      },
      "execution_count": null,
      "outputs": []
    },
    {
      "cell_type": "markdown",
      "source": [
        "# E. 어려운 모든 정점 쌍 최단 거리\n",
        "- 문제 접근 방식\n",
        "  - 좌표\n",
        "  - 조건에 맞는 if문 이용\n",
        "- 해법을 찾는데 결정적이었던 깨달음\n",
        "  - 조건 잘 파악해서 조건문 작성하기\n",
        "  - 가장 경우의 수가 많은 'a' 남겨두기\n",
        "- 문제 풀이 로직\n",
        "  - 각 사각형의 x,y 좌표 저장\n",
        "  - a, b, c, d에 해당하는 경우에 따라 if문 이용"
      ],
      "metadata": {
        "id": "0GEZB-fUKeGG"
      }
    },
    {
      "cell_type": "code",
      "source": [
        "import sys\n",
        "sys.setrecursionlimit(1234456)\n",
        "input = lambda: sys.stdin.readline().rstrip()\n",
        "\n",
        "def find(n):\n",
        "    if p[n] < 0:\n",
        "        return n\n",
        "    p[n] = find(p[n])\n",
        "    return p[n]\n",
        "\n",
        "def merge(a, b):\n",
        "    a, b = find(a), find(b)\n",
        "    if a == b:\n",
        "        return\n",
        "    p[a] += p[b]\n",
        "    p[b] = a\n",
        "\n",
        "N, M, K = map(int, input().split())\n",
        "p = [-1] * N\n",
        "for i in range(1, M+1):\n",
        "    a, b = mis()\n",
        "    if i == K:\n",
        "        continue\n",
        "    merge(a-1, b-1)\n",
        "t = [x for x in p if x<0]\n",
        "\n",
        "print(t[0]*t[1] if len(t) == 2 else 0)"
      ],
      "metadata": {
        "id": "6YZJTCkSJ4N2"
      },
      "execution_count": null,
      "outputs": []
    }
  ]
}