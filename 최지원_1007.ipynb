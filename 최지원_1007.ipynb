{
  "nbformat": 4,
  "nbformat_minor": 0,
  "metadata": {
    "colab": {
      "provenance": []
    },
    "kernelspec": {
      "name": "python3",
      "display_name": "Python 3"
    },
    "language_info": {
      "name": "python"
    }
  },
  "cells": [
    {
      "cell_type": "markdown",
      "source": [
        "# **1007**\n",
        "\n",
        "\n"
      ],
      "metadata": {
        "id": "Om2kfzUzKniB"
      }
    },
    {
      "cell_type": "markdown",
      "source": [
        "### **백준 #2805**"
      ],
      "metadata": {
        "id": "Z29FBrs3NDr0"
      }
    },
    {
      "cell_type": "markdown",
      "source": [
        "이진 탐색 알고리즘"
      ],
      "metadata": {
        "id": "X39Sypa_W0rp"
      }
    },
    {
      "cell_type": "code",
      "source": [
        "n,m=map(int,input().split()) # 입력받기\n",
        "tree=list(map(int, input().split()))\n",
        "\n",
        "start, end = 1, max(tree)\n",
        "\n",
        "while start <= end:\n",
        "    hap = 0\n",
        "    mid = (start+end) // 2\n",
        "\n",
        "    for i in tree:\n",
        "      if i > mid:\n",
        "        hap += i - mid\n",
        "      else:\n",
        "        0\n",
        "    \n",
        "    if hap >= m:\n",
        "        start = mid + 1\n",
        "    else:\n",
        "        end = mid - 1\n",
        "\n",
        "print(end)"
      ],
      "metadata": {
        "colab": {
          "base_uri": "https://localhost:8080/"
        },
        "id": "vxf0rUC5RoRu",
        "outputId": "bb23dc5c-09bf-4421-f980-29c37b445c45"
      },
      "execution_count": 37,
      "outputs": [
        {
          "output_type": "stream",
          "name": "stdout",
          "text": [
            "2 3\n",
            "20 15 10 17\n",
            "17\n"
          ]
        }
      ]
    },
    {
      "cell_type": "code",
      "source": [
        "tree"
      ],
      "metadata": {
        "colab": {
          "base_uri": "https://localhost:8080/"
        },
        "id": "u4BFTIgtWbgj",
        "outputId": "0c4858a5-58a6-4ef3-ec83-218f9da37829"
      },
      "execution_count": 36,
      "outputs": [
        {
          "output_type": "execute_result",
          "data": {
            "text/plain": [
              "[20, 15, 10, 17]"
            ]
          },
          "metadata": {},
          "execution_count": 36
        }
      ]
    },
    {
      "cell_type": "code",
      "source": [
        "n=2\n",
        "m=3\n",
        "\n",
        "start, end = 1, max(tree)\n",
        "\n",
        "while start <= end:\n",
        "    hap = 0\n",
        "    mid = (start+end) // 2\n",
        "\n",
        "    for i in tree:\n",
        "      hap += i - mid if i > mid else 0\n",
        "      print(i,hap,mid)\n",
        "    \n",
        "    if hap >= m:\n",
        "        start = mid + 1\n",
        "    else:\n",
        "        end = mid - 1\n",
        "        \n",
        "    print(\"m: \",m,\"n: \",n)\n",
        "    print(\"============\")"
      ],
      "metadata": {
        "colab": {
          "base_uri": "https://localhost:8080/"
        },
        "id": "RXnLWldgV0Ex",
        "outputId": "8989fa8d-1cca-449a-8366-1c9dac0cbe2d"
      },
      "execution_count": 35,
      "outputs": [
        {
          "output_type": "stream",
          "name": "stdout",
          "text": [
            "20 10 10\n",
            "15 15 10\n",
            "10 15 10\n",
            "17 22 10\n",
            "m:  3 n:  2\n",
            "============\n",
            "20 5 15\n",
            "15 5 15\n",
            "10 5 15\n",
            "17 7 15\n",
            "m:  3 n:  2\n",
            "============\n",
            "20 2 18\n",
            "15 2 18\n",
            "10 2 18\n",
            "17 2 18\n",
            "m:  3 n:  2\n",
            "============\n",
            "20 4 16\n",
            "15 4 16\n",
            "10 4 16\n",
            "17 5 16\n",
            "m:  3 n:  2\n",
            "============\n",
            "20 3 17\n",
            "15 3 17\n",
            "10 3 17\n",
            "17 3 17\n",
            "m:  3 n:  2\n",
            "============\n"
          ]
        }
      ]
    },
    {
      "cell_type": "markdown",
      "source": [
        "### **백준 #5397**"
      ],
      "metadata": {
        "id": "FdB0f5wIKp5b"
      }
    },
    {
      "cell_type": "code",
      "source": [
        "test_cases = int(input()) # # 테스트 케이스의 개수 입력받기\n",
        "\n",
        "for _ in range(test_cases):\n",
        "    left, right=[],[] # 커서 기준으로 왼쪽 스택과 오른쪽 스택 분리 아이디어\n",
        "    string=input()\n",
        "    \n",
        "    for value in string:\n",
        "        if value == \">\": \n",
        "            if right: # 오른쪽 스택 존재할 경우\n",
        "                left.append(right.pop()) \n",
        "        elif value == \"<\":\n",
        "            if left:\n",
        "                right.append(left.pop())\n",
        "        elif value ==\"-\":\n",
        "            if left:\n",
        "                left.pop() # 마지막 글자 제거\n",
        "        else:\n",
        "            left.append(value)\n",
        "\n",
        "    print(\"\".join(left)+\"\".join(reversed(right))) #right은 역순으로 배열되어 있으므로 reversed 처리\n"
      ],
      "metadata": {
        "colab": {
          "base_uri": "https://localhost:8080/"
        },
        "id": "-N7O9Qa0LgNU",
        "outputId": "5010bd64-3366-4d04-cdae-57ac86911f59"
      },
      "execution_count": 9,
      "outputs": [
        {
          "output_type": "stream",
          "name": "stdout",
          "text": [
            "2\n",
            "<<BP<A>>Cd-\n",
            "BAPC\n",
            "ThIsIsS3Cr3t\n",
            "ThIsIsS3Cr3t\n"
          ]
        }
      ]
    },
    {
      "cell_type": "code",
      "source": [
        "test_cases = int(input()) \n",
        "\n",
        "for _ in range(test_cases):\n",
        "    left, right=[],[]\n",
        "    string=input()\n",
        "    \n",
        "    for value in string:\n",
        "        if value == \">\": \n",
        "            if right:\n",
        "                left.append(right.pop()) \n",
        "        elif value == \"<\":\n",
        "            if left:\n",
        "                right.append(left.pop())\n",
        "        elif value ==\"-\":\n",
        "            if left:\n",
        "                left.pop()\n",
        "        else:\n",
        "            left.append(value)\n",
        "        print(left,\" | \",right)\n",
        "\n",
        "    print(\"\".join(left)+\"\".join(reversed(right)))"
      ],
      "metadata": {
        "colab": {
          "base_uri": "https://localhost:8080/"
        },
        "id": "dehbjJm8PGOG",
        "outputId": "7162598d-af7e-468e-96f3-02be53fa951a"
      },
      "execution_count": 11,
      "outputs": [
        {
          "output_type": "stream",
          "name": "stdout",
          "text": [
            "1\n",
            "<<BP<A>>Cd-\n",
            "[]  |  []\n",
            "[]  |  []\n",
            "['B']  |  []\n",
            "['B', 'P']  |  []\n",
            "['B']  |  ['P']\n",
            "['B', 'A']  |  ['P']\n",
            "['B', 'A', 'P']  |  []\n",
            "['B', 'A', 'P']  |  []\n",
            "['B', 'A', 'P', 'C']  |  []\n",
            "['B', 'A', 'P', 'C', 'd']  |  []\n",
            "['B', 'A', 'P', 'C']  |  []\n",
            "BAPC\n"
          ]
        }
      ]
    },
    {
      "cell_type": "markdown",
      "source": [
        "![image.png](data:image/png;base64,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)"
      ],
      "metadata": {
        "id": "EjrdalRpM8KG"
      }
    },
    {
      "cell_type": "markdown",
      "source": [
        "참고 https://assaeunji.github.io/python/2020-05-05-bj5397/"
      ],
      "metadata": {
        "id": "3szGS0-jNFzH"
      }
    }
  ]
}